{
 "cells": [
  {
   "cell_type": "code",
   "execution_count": 1,
   "id": "db12e572",
   "metadata": {},
   "outputs": [],
   "source": [
    "import pandas as pd"
   ]
  },
  {
   "cell_type": "code",
   "execution_count": 7,
   "id": "f1c0156b",
   "metadata": {},
   "outputs": [
    {
     "name": "stderr",
     "output_type": "stream",
     "text": [
      "C:\\Users\\akash\\AppData\\Local\\Temp\\ipykernel_26848\\3953014353.py:4: DtypeWarning: Columns (3,4,5,6,12) have mixed types. Specify dtype option on import or set low_memory=False.\n",
      "  sal = pd.read_csv('Salaries.csv')\n"
     ]
    }
   ],
   "source": [
    "# 1. Read Salaries.csv as a dataframe called sal.\n",
    "# dtype_dict = {'Id': int, 'EmployeeName': str, 'JobTitle': str, 'BasePay': float, 'OvertimePay': float,\n",
    "#               'OtherPay': float, 'Benefits': float, 'TotalPay': float, 'TotalPayBenefits': float}\n",
    "sal = pd.read_csv('Salaries.csv')"
   ]
  },
  {
   "cell_type": "code",
   "execution_count": 8,
   "id": "1c46c3e4",
   "metadata": {},
   "outputs": [
    {
     "name": "stdout",
     "output_type": "stream",
     "text": [
      "   Id       EmployeeName                                        JobTitle  \\\n",
      "0   1     NATHANIEL FORD  GENERAL MANAGER-METROPOLITAN TRANSIT AUTHORITY   \n",
      "1   2       GARY JIMENEZ                 CAPTAIN III (POLICE DEPARTMENT)   \n",
      "2   3     ALBERT PARDINI                 CAPTAIN III (POLICE DEPARTMENT)   \n",
      "3   4  CHRISTOPHER CHONG            WIRE ROPE CABLE MAINTENANCE MECHANIC   \n",
      "4   5    PATRICK GARDNER    DEPUTY CHIEF OF DEPARTMENT,(FIRE DEPARTMENT)   \n",
      "\n",
      "     BasePay OvertimePay   OtherPay Benefits   TotalPay  TotalPayBenefits  \\\n",
      "0  167411.18         0.0  400184.25      NaN  567595.43         567595.43   \n",
      "1  155966.02   245131.88  137811.38      NaN  538909.28         538909.28   \n",
      "2  212739.13   106088.18    16452.6      NaN  335279.91         335279.91   \n",
      "3    77916.0    56120.71   198306.9      NaN  332343.61         332343.61   \n",
      "4   134401.6      9737.0  182234.59      NaN  326373.19         326373.19   \n",
      "\n",
      "   Year  Notes         Agency Status  \n",
      "0  2011    NaN  San Francisco    NaN  \n",
      "1  2011    NaN  San Francisco    NaN  \n",
      "2  2011    NaN  San Francisco    NaN  \n",
      "3  2011    NaN  San Francisco    NaN  \n",
      "4  2011    NaN  San Francisco    NaN  \n"
     ]
    }
   ],
   "source": [
    "# 2. Check the head of the DataFrame.\n",
    "print(sal.head())"
   ]
  },
  {
   "cell_type": "code",
   "execution_count": 4,
   "id": "ceae8c66",
   "metadata": {},
   "outputs": [
    {
     "name": "stdout",
     "output_type": "stream",
     "text": [
      "<class 'pandas.core.frame.DataFrame'>\n",
      "RangeIndex: 148654 entries, 0 to 148653\n",
      "Data columns (total 13 columns):\n",
      " #   Column            Non-Null Count   Dtype  \n",
      "---  ------            --------------   -----  \n",
      " 0   Id                148654 non-null  int64  \n",
      " 1   EmployeeName      148654 non-null  object \n",
      " 2   JobTitle          148654 non-null  object \n",
      " 3   BasePay           148049 non-null  object \n",
      " 4   OvertimePay       148654 non-null  object \n",
      " 5   OtherPay          148654 non-null  object \n",
      " 6   Benefits          112495 non-null  object \n",
      " 7   TotalPay          148654 non-null  float64\n",
      " 8   TotalPayBenefits  148654 non-null  float64\n",
      " 9   Year              148654 non-null  int64  \n",
      " 10  Notes             0 non-null       float64\n",
      " 11  Agency            148654 non-null  object \n",
      " 12  Status            38119 non-null   object \n",
      "dtypes: float64(3), int64(2), object(8)\n",
      "memory usage: 14.7+ MB\n",
      "None\n"
     ]
    }
   ],
   "source": [
    "# 3. Use the .info() method to find out how many entries there are.\n",
    "print(sal.info())"
   ]
  },
  {
   "cell_type": "code",
   "execution_count": 12,
   "id": "cd5cb83e",
   "metadata": {},
   "outputs": [
    {
     "name": "stdout",
     "output_type": "stream",
     "text": [
      "Average BasePay: 66325.44884050643\n"
     ]
    }
   ],
   "source": [
    "# 4. What is the average BasePay ?\n",
    "average_base_pay = pd.to_numeric(sal['BasePay'], errors='coerce').mean()\n",
    "print(\"Average BasePay:\", average_base_pay)"
   ]
  },
  {
   "cell_type": "code",
   "execution_count": 15,
   "id": "db289190",
   "metadata": {},
   "outputs": [
    {
     "name": "stdout",
     "output_type": "stream",
     "text": [
      "Highest OvertimePay: 245131.88\n"
     ]
    }
   ],
   "source": [
    "# 5. What is the highest amount of OvertimePay in the dataset?\n",
    "highest_overtime_pay = pd.to_numeric(sal['OvertimePay'], errors='coerce').max()\n",
    "print(\"Highest OvertimePay:\", highest_overtime_pay)"
   ]
  },
  {
   "cell_type": "code",
   "execution_count": 17,
   "id": "f0f1087e",
   "metadata": {},
   "outputs": [
    {
     "name": "stdout",
     "output_type": "stream",
     "text": [
      "Job title of JOSEPH DRISCOLL: CAPTAIN, FIRE SUPPRESSION\n"
     ]
    }
   ],
   "source": [
    "# 6. What is the job title of JOSEPH DRISCOLL?\n",
    "joseph_driscoll_job_title = sal[sal['EmployeeName'] == 'JOSEPH DRISCOLL']['JobTitle'].iloc[0]\n",
    "print(\"Job title of JOSEPH DRISCOLL:\", joseph_driscoll_job_title)"
   ]
  },
  {
   "cell_type": "code",
   "execution_count": 18,
   "id": "60289399",
   "metadata": {},
   "outputs": [
    {
     "name": "stdout",
     "output_type": "stream",
     "text": [
      "Total pay of JOSEPH DRISCOLL: 270324.91\n"
     ]
    }
   ],
   "source": [
    "# 7. How much does JOSEPH DRISCOLL make (including benefits)?\n",
    "joseph_driscoll_total_pay = sal[sal['EmployeeName'] == 'JOSEPH DRISCOLL']['TotalPayBenefits'].iloc[0]\n",
    "print(\"Total pay of JOSEPH DRISCOLL:\", joseph_driscoll_total_pay)"
   ]
  },
  {
   "cell_type": "code",
   "execution_count": 19,
   "id": "49750656",
   "metadata": {},
   "outputs": [
    {
     "name": "stdout",
     "output_type": "stream",
     "text": [
      "Name of highest paid person: NATHANIEL FORD\n"
     ]
    }
   ],
   "source": [
    "# 8. What is the name of highest paid person (including benefits)?\n",
    "highest_paid_person = sal.loc[sal['TotalPayBenefits'].idxmax()]['EmployeeName']\n",
    "print(\"Name of highest paid person:\", highest_paid_person)"
   ]
  },
  {
   "cell_type": "code",
   "execution_count": 20,
   "id": "eaa8f4a7",
   "metadata": {},
   "outputs": [
    {
     "name": "stdout",
     "output_type": "stream",
     "text": [
      "Name of lowest paid person: Joe Lopez\n"
     ]
    }
   ],
   "source": [
    "# 9. What is the name of lowest paid person (including benefits)?\n",
    "lowest_paid_person = sal.loc[sal['TotalPayBenefits'].idxmin()]['EmployeeName']\n",
    "print(\"Name of lowest paid person:\", lowest_paid_person)"
   ]
  },
  {
   "cell_type": "code",
   "execution_count": 29,
   "id": "57118b45",
   "metadata": {},
   "outputs": [
    {
     "name": "stdout",
     "output_type": "stream",
     "text": [
      "Average BasePay per year:\n",
      " [nan nan nan ... nan nan nan]\n"
     ]
    }
   ],
   "source": [
    "# 10. What was the average (mean) BasePay of all employees per year? (2011-2014)?\n",
    "sal['Year'] = pd.to_datetime(sal['Year'], format='%Y')\n",
    "average_base_pay_per_year = pd.to_numeric(sal.groupby(sal['Year'].dt.year)['BasePay'], errors='coerce').mean()\n",
    "print(\"Average BasePay per year:\\n\", average_base_pay_per_year)"
   ]
  },
  {
   "cell_type": "code",
   "execution_count": 23,
   "id": "2be24577",
   "metadata": {},
   "outputs": [
    {
     "name": "stdout",
     "output_type": "stream",
     "text": [
      "Number of unique job titles: 2159\n"
     ]
    }
   ],
   "source": [
    "# 11. How many unique job titles are there?\n",
    "unique_job_titles = sal['JobTitle'].nunique()\n",
    "print(\"Number of unique job titles:\", unique_job_titles)"
   ]
  },
  {
   "cell_type": "code",
   "execution_count": 24,
   "id": "5bd95fbc",
   "metadata": {},
   "outputs": [
    {
     "name": "stdout",
     "output_type": "stream",
     "text": [
      "Top 5 most common jobs:\n",
      " Transit Operator                7036\n",
      "Special Nurse                   4389\n",
      "Registered Nurse                3736\n",
      "Public Svc Aide-Public Works    2518\n",
      "Police Officer 3                2421\n",
      "Name: JobTitle, dtype: int64\n"
     ]
    }
   ],
   "source": [
    "# 12. What are the top 5 most common jobs?\n",
    "top_5_common_jobs = sal['JobTitle'].value_counts().head()\n",
    "print(\"Top 5 most common jobs:\\n\", top_5_common_jobs)"
   ]
  },
  {
   "cell_type": "code",
   "execution_count": 25,
   "id": "155e97b0",
   "metadata": {},
   "outputs": [
    {
     "name": "stdout",
     "output_type": "stream",
     "text": [
      "Number of job titles represented by only one person in 2013: 202\n"
     ]
    }
   ],
   "source": [
    "# 13. How many Job Titles were represented by only one person in 2013?\n",
    "job_titles_2013 = sal[sal['Year'].dt.year == 2013]['JobTitle'].value_counts()\n",
    "unique_job_titles_2013 = job_titles_2013[job_titles_2013 == 1].count()\n",
    "print(\"Number of job titles represented by only one person in 2013:\", unique_job_titles_2013)"
   ]
  },
  {
   "cell_type": "code",
   "execution_count": 26,
   "id": "f3565e70",
   "metadata": {},
   "outputs": [
    {
     "name": "stdout",
     "output_type": "stream",
     "text": [
      "Number of people with 'Chief' in their job title: 627\n"
     ]
    }
   ],
   "source": [
    "# 14. How many people have the word Chief in their job title?\n",
    "chief_count = sal[sal['JobTitle'].str.contains('Chief', case=False)]['EmployeeName'].count()\n",
    "print(\"Number of people with 'Chief' in their job title:\", chief_count)"
   ]
  },
  {
   "cell_type": "code",
   "execution_count": 27,
   "id": "13ed8a97",
   "metadata": {},
   "outputs": [
    {
     "name": "stdout",
     "output_type": "stream",
     "text": [
      "Correlation between length of job title and salary: -0.03687844593260675\n"
     ]
    }
   ],
   "source": [
    "# 15. Is there a correlation between length of the Job Title string and Salary?\n",
    "sal['TitleLength'] = sal['JobTitle'].apply(len)\n",
    "correlation = sal['TitleLength'].corr(sal['TotalPayBenefits'])\n",
    "print(\"Correlation between length of job title and salary:\", correlation)"
   ]
  },
  {
   "cell_type": "code",
   "execution_count": null,
   "id": "606c2efb",
   "metadata": {},
   "outputs": [],
   "source": []
  }
 ],
 "metadata": {
  "kernelspec": {
   "display_name": "Python 3 (ipykernel)",
   "language": "python",
   "name": "python3"
  },
  "language_info": {
   "codemirror_mode": {
    "name": "ipython",
    "version": 3
   },
   "file_extension": ".py",
   "mimetype": "text/x-python",
   "name": "python",
   "nbconvert_exporter": "python",
   "pygments_lexer": "ipython3",
   "version": "3.9.13"
  }
 },
 "nbformat": 4,
 "nbformat_minor": 5
}
